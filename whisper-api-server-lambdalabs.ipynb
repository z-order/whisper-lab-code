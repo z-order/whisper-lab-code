{
 "cells": [
  {
   "cell_type": "markdown",
   "metadata": {},
   "source": [
    "# Install guide for Whisper API Server (Community Versoin / HiveMind)  ==> Not finished, confirm installation from the lambdalabs cloud instances.\n",
    "\n",
    "#### You should connect to the server through secure shell (ssh) and proceed the following steps without running Jupyter Notebook server on the same server. Because the Jupyter Notebook server holds a few python modules to be removed or reinstalled making errors during pip install procedures. This file is just for guidance of installing Whisper API Server, so you can refer this file as a installation guide."
   ]
  },
  {
   "cell_type": "code",
   "execution_count": 1,
   "metadata": {},
   "outputs": [
    {
     "name": "stdout",
     "output_type": "stream",
     "text": [
      "/home/ubuntu\n"
     ]
    }
   ],
   "source": [
    "!pwd"
   ]
  },
  {
   "cell_type": "code",
   "execution_count": 2,
   "metadata": {},
   "outputs": [
    {
     "name": "stdout",
     "output_type": "stream",
     "text": [
      "total 53\n",
      "drwxr-x--- 10 ubuntu ubuntu 4096 Oct  3 14:53 .\n",
      "drwxr-xr-x  3 root   root   4096 Dec  6  2023 ..\n",
      "-rw-r--r--  1 ubuntu ubuntu  220 Jan  6  2022 .bash_logout\n",
      "-rw-r--r--  1 ubuntu ubuntu 3771 Jan  6  2022 .bashrc\n",
      "drwx------  3 ubuntu ubuntu 4096 Dec  6  2023 .cache\n",
      "drwxr-xr-x  5 ubuntu ubuntu 4096 Oct  3 13:28 .ipython\n",
      "drwxr-xr-x  3 ubuntu ubuntu 4096 Oct  3 14:03 .jupyter\n",
      "drwxrwxr-x  7 ubuntu ubuntu 4096 Dec  6  2023 .local\n",
      "-rw-r--r--  1 ubuntu ubuntu  807 Jan  6  2022 .profile\n",
      "drwx------  2 ubuntu ubuntu 4096 Oct  3 11:53 .ssh\n",
      "-rw-r--r--  1 ubuntu ubuntu    0 Dec  6  2023 .sudo_as_admin_successful\n",
      "-rw-------  1 ubuntu ubuntu 4013 Oct  3 13:40 .viminfo\n",
      "drwxr-xr-x  3 ubuntu ubuntu    1 Oct  3 15:17 hivemind-whisper-api-server-a100-arizona\n",
      "drwxrwxr-x  8 ubuntu ubuntu 4096 Oct  3 14:52 openai-whisper-ws\n",
      "drwxrwxr-x  3 ubuntu ubuntu 4096 Oct  3 14:53 whisper-lab-code\n"
     ]
    }
   ],
   "source": [
    "!ls -al"
   ]
  },
  {
   "cell_type": "code",
   "execution_count": 18,
   "metadata": {},
   "outputs": [
    {
     "name": "stdout",
     "output_type": "stream",
     "text": [
      "Get:1 https://nvidia.github.io/libnvidia-container/stable/ubuntu18.04/amd64  InRelease [1484 B]\n",
      "Hit:2 https://nvidia.github.io/nvidia-container-runtime/stable/ubuntu18.04/amd64  InRelease\n",
      "Hit:3 https://packages.microsoft.com/repos/azure-cli jammy InRelease           \u001b[0m\u001b[33m\n",
      "Hit:4 http://archive.ubuntu.com/ubuntu jammy InRelease                         \u001b[0m\n",
      "Hit:5 https://download.docker.com/linux/ubuntu jammy InRelease                 \u001b[0m\n",
      "Hit:6 http://archive.lambdalabs.com/ubuntu jammy InRelease                     \u001b[0m\u001b[33m\n",
      "Hit:7 http://archive.ubuntu.com/ubuntu jammy-updates InRelease                 \u001b[0m\n",
      "Hit:8 http://archive.ubuntu.com/ubuntu jammy-backports InRelease               \u001b[0m\u001b[33m\n",
      "Hit:9 http://security.ubuntu.com/ubuntu jammy-security InRelease               \u001b[0m\n",
      "Hit:10 https://pkg.cloudflare.com/cloudflared jammy InRelease                  \u001b[0m\u001b[33m\n",
      "Hit:11 https://packages.cloud.google.com/apt cloud-sdk InRelease               \u001b[0m\u001b[33m\n",
      "Hit:12 https://ppa.launchpadcontent.net/deadsnakes/ppa/ubuntu jammy InRelease  \u001b[0m\u001b[33m\u001b[33m\u001b[33m\u001b[33m\u001b[33m\u001b[33m\u001b[33m\n",
      "Hit:13 http://ppa.launchpad.net/flexiondotorg/nvtop/ubuntu jammy InRelease\n",
      "Fetched 1484 B in 3s (528 B/s)\n",
      "Reading package lists... Done\n",
      "Building dependency tree... Done\n",
      "Reading state information... Done\n",
      "323 packages can be upgraded. Run 'apt list --upgradable' to see them.\n"
     ]
    }
   ],
   "source": [
    "!sudo apt update"
   ]
  },
  {
   "cell_type": "code",
   "execution_count": 19,
   "metadata": {},
   "outputs": [
    {
     "name": "stdout",
     "output_type": "stream",
     "text": [
      "Defaulting to user installation because normal site-packages is not writeable\n",
      "Requirement already satisfied: pip in ./.local/lib/python3.10/site-packages (24.2)\n"
     ]
    }
   ],
   "source": [
    "!python3 -m pip install --upgrade pip"
   ]
  },
  {
   "cell_type": "markdown",
   "metadata": {},
   "source": [
    "`Upgrade to python3.12`\n",
    "\n",
    "```sh\n",
    "$ sudo apt install python3.12\n",
    "$ sudo unlink /usr/bin/python\n",
    "$ sudo unlink /usr/bin/python3\n",
    "$ sudo ln -s /usr/bin/python3.12 /usr/bin/python3\n",
    "$ sudo ln -s /usr/bin/python /usr/bin/python3\n",
    "$ sudo apt install python3.12-distutils\n",
    "```"
   ]
  },
  {
   "cell_type": "code",
   "execution_count": 3,
   "metadata": {},
   "outputs": [
    {
     "name": "stdout",
     "output_type": "stream",
     "text": [
      "Defaulting to user installation because normal site-packages is not writeable\n",
      "Requirement already satisfied: fastapi in ./.local/lib/python3.10/site-packages (0.115.0)\n",
      "Requirement already satisfied: uvicorn in ./.local/lib/python3.10/site-packages (0.31.0)\n",
      "Requirement already satisfied: pyngrok in ./.local/lib/python3.10/site-packages (7.2.0)\n",
      "Requirement already satisfied: starlette<0.39.0,>=0.37.2 in ./.local/lib/python3.10/site-packages (from fastapi) (0.38.6)\n",
      "Requirement already satisfied: pydantic!=1.8,!=1.8.1,!=2.0.0,!=2.0.1,!=2.1.0,<3.0.0,>=1.7.4 in ./.local/lib/python3.10/site-packages (from fastapi) (2.5.2)\n",
      "Requirement already satisfied: typing-extensions>=4.8.0 in ./.local/lib/python3.10/site-packages (from fastapi) (4.8.0)\n",
      "Requirement already satisfied: click>=7.0 in /usr/lib/python3/dist-packages (from uvicorn) (8.0.3)\n",
      "Requirement already satisfied: h11>=0.8 in ./.local/lib/python3.10/site-packages (from uvicorn) (0.14.0)\n",
      "Requirement already satisfied: PyYAML>=5.1 in /usr/lib/python3/dist-packages (from pyngrok) (5.4.1)\n",
      "Requirement already satisfied: annotated-types>=0.4.0 in ./.local/lib/python3.10/site-packages (from pydantic!=1.8,!=1.8.1,!=2.0.0,!=2.0.1,!=2.1.0,<3.0.0,>=1.7.4->fastapi) (0.6.0)\n",
      "Requirement already satisfied: pydantic-core==2.14.5 in ./.local/lib/python3.10/site-packages (from pydantic!=1.8,!=1.8.1,!=2.0.0,!=2.0.1,!=2.1.0,<3.0.0,>=1.7.4->fastapi) (2.14.5)\n",
      "Requirement already satisfied: anyio<5,>=3.4.0 in ./.local/lib/python3.10/site-packages (from starlette<0.39.0,>=0.37.2->fastapi) (4.1.0)\n",
      "Requirement already satisfied: idna>=2.8 in /usr/lib/python3/dist-packages (from anyio<5,>=3.4.0->starlette<0.39.0,>=0.37.2->fastapi) (3.3)\n",
      "Requirement already satisfied: sniffio>=1.1 in ./.local/lib/python3.10/site-packages (from anyio<5,>=3.4.0->starlette<0.39.0,>=0.37.2->fastapi) (1.3.0)\n",
      "Requirement already satisfied: exceptiongroup>=1.0.2 in ./.local/lib/python3.10/site-packages (from anyio<5,>=3.4.0->starlette<0.39.0,>=0.37.2->fastapi) (1.2.0)\n",
      "Note: you may need to restart the kernel to use updated packages.\n"
     ]
    }
   ],
   "source": [
    "%pip install fastapi uvicorn pyngrok"
   ]
  },
  {
   "cell_type": "code",
   "execution_count": 19,
   "metadata": {},
   "outputs": [
    {
     "name": "stdout",
     "output_type": "stream",
     "text": [
      "Cloning into 'openai-whisper-ws'...\n",
      "remote: Enumerating objects: 696, done.\u001b[K\n",
      "remote: Counting objects: 100% (696/696), done.\u001b[K\n",
      "remote: Compressing objects: 100% (258/258), done.\u001b[K\n",
      "remote: Total 696 (delta 413), reused 693 (delta 410), pack-reused 0 (from 0)\u001b[K\n",
      "Receiving objects: 100% (696/696), 12.43 MiB | 7.27 MiB/s, done.\n",
      "Resolving deltas: 100% (413/413), done.\n"
     ]
    }
   ],
   "source": [
    "!git clone https://github.com/z-order/openai-whisper-ws.git"
   ]
  },
  {
   "cell_type": "code",
   "execution_count": 21,
   "metadata": {},
   "outputs": [
    {
     "name": "stdout",
     "output_type": "stream",
     "text": [
      "Cloning into 'whisper-lab-code'...\n",
      "remote: Enumerating objects: 34, done.\u001b[K\n",
      "remote: Counting objects: 100% (34/34), done.\u001b[K\n",
      "remote: Compressing objects: 100% (23/23), done.\u001b[K\n",
      "remote: Total 34 (delta 19), reused 26 (delta 11), pack-reused 0 (from 0)\u001b[K\n",
      "Receiving objects: 100% (34/34), 41.54 KiB | 644.00 KiB/s, done.\n",
      "Resolving deltas: 100% (19/19), done.\n"
     ]
    }
   ],
   "source": [
    "!git clone https://github.com/z-order/whisper-lab-code.git"
   ]
  },
  {
   "cell_type": "code",
   "execution_count": 4,
   "metadata": {},
   "outputs": [
    {
     "name": "stdout",
     "output_type": "stream",
     "text": [
      "Get:1 https://nvidia.github.io/libnvidia-container/stable/ubuntu18.04/amd64  InRelease [1484 B]\n",
      "Hit:2 https://nvidia.github.io/nvidia-container-runtime/stable/ubuntu18.04/amd64  InRelease\n",
      "Hit:3 https://download.docker.com/linux/ubuntu jammy InRelease                 \u001b[0m\n",
      "Hit:4 https://packages.microsoft.com/repos/azure-cli jammy InRelease           \u001b[0m\n",
      "Hit:5 http://archive.lambdalabs.com/ubuntu jammy InRelease                     \u001b[0m\u001b[33m\u001b[33m\n",
      "Hit:6 http://security.ubuntu.com/ubuntu jammy-security InRelease               \u001b[0m\n",
      "Hit:7 http://archive.ubuntu.com/ubuntu jammy InRelease                         \u001b[0m\u001b[33m\n",
      "Hit:8 http://archive.ubuntu.com/ubuntu jammy-updates InRelease                 \u001b[0m\u001b[33m\n",
      "Hit:9 http://archive.ubuntu.com/ubuntu jammy-backports InRelease               \u001b[0m\n",
      "Hit:10 https://packages.cloud.google.com/apt cloud-sdk InRelease               \u001b[0m\u001b[33m\n",
      "Hit:11 https://pkg.cloudflare.com/cloudflared jammy InRelease                  \u001b[0m\n",
      "Hit:12 https://ppa.launchpadcontent.net/deadsnakes/ppa/ubuntu jammy InRelease  \u001b[0m\u001b[33m\u001b[33m\u001b[33m\u001b[33m\u001b[33m\u001b[33m\n",
      "Hit:13 http://ppa.launchpad.net/flexiondotorg/nvtop/ubuntu jammy InRelease     \u001b[33m\n",
      "Fetched 1484 B in 2s (731 B/s)\n",
      "Reading package lists... Done\n",
      "Building dependency tree... Done\n",
      "Reading state information... Done\n",
      "323 packages can be upgraded. Run 'apt list --upgradable' to see them.\n",
      "Reading package lists... Done\n",
      "Building dependency tree... Done\n",
      "Reading state information... Done\n",
      "ffmpeg is already the newest version (7:4.4.2-0ubuntu0.22.04.1).\n",
      "The following packages were automatically installed and are no longer required:\n",
      "  libabsl20210324 libc-ares2 libmagma2 libsleef3 python3-astunparse\n",
      "  python3-cachetools python3-google-auth python3-google-auth-oauthlib\n",
      "  python3-grpcio python3-markdown python3-networkx python3-pasta\n",
      "  python3-protobuf python3-pyinotify python3-requests-oauthlib python3-rsa\n",
      "  python3-termcolor python3-triton-cuda python3-werkzeug python3-wrapt\n",
      "Use 'sudo apt autoremove' to remove them.\n",
      "0 upgraded, 0 newly installed, 0 to remove and 323 not upgraded.\n"
     ]
    }
   ],
   "source": [
    "!sudo apt update && sudo apt install ffmpeg"
   ]
  },
  {
   "cell_type": "code",
   "execution_count": 5,
   "metadata": {},
   "outputs": [
    {
     "name": "stdout",
     "output_type": "stream",
     "text": [
      "total 53\n",
      "drwxr-x--- 10 ubuntu ubuntu 4096 Oct  3 14:53 .\n",
      "drwxr-xr-x  3 root   root   4096 Dec  6  2023 ..\n",
      "-rw-r--r--  1 ubuntu ubuntu  220 Jan  6  2022 .bash_logout\n",
      "-rw-r--r--  1 ubuntu ubuntu 3771 Jan  6  2022 .bashrc\n",
      "drwx------  3 ubuntu ubuntu 4096 Dec  6  2023 .cache\n",
      "drwxr-xr-x  5 ubuntu ubuntu 4096 Oct  3 13:28 .ipython\n",
      "drwxr-xr-x  3 ubuntu ubuntu 4096 Oct  3 14:03 .jupyter\n",
      "drwxrwxr-x  7 ubuntu ubuntu 4096 Dec  6  2023 .local\n",
      "-rw-r--r--  1 ubuntu ubuntu  807 Jan  6  2022 .profile\n",
      "drwx------  2 ubuntu ubuntu 4096 Oct  3 11:53 .ssh\n",
      "-rw-r--r--  1 ubuntu ubuntu    0 Dec  6  2023 .sudo_as_admin_successful\n",
      "-rw-------  1 ubuntu ubuntu 4013 Oct  3 13:40 .viminfo\n",
      "drwxr-xr-x  3 ubuntu ubuntu    1 Oct  3 15:17 hivemind-whisper-api-server-a100-arizona\n",
      "drwxrwxr-x  8 ubuntu ubuntu 4096 Oct  3 14:52 openai-whisper-ws\n",
      "drwxrwxr-x  3 ubuntu ubuntu 4096 Oct  3 14:53 whisper-lab-code\n"
     ]
    }
   ],
   "source": [
    "!ls -al"
   ]
  },
  {
   "cell_type": "code",
   "execution_count": 26,
   "metadata": {},
   "outputs": [
    {
     "name": "stdout",
     "output_type": "stream",
     "text": [
      "total 1272\n",
      "drwxrwxr-x  8 ubuntu ubuntu   4096 Oct  3 14:52 .\n",
      "drwxr-x--- 10 ubuntu ubuntu   4096 Oct  3 14:53 ..\n",
      "-rw-rw-r--  1 ubuntu ubuntu     53 Oct  3 14:52 .flake8\n",
      "drwxrwxr-x  8 ubuntu ubuntu   4096 Oct  3 14:52 .git\n",
      "-rw-rw-r--  1 ubuntu ubuntu    214 Oct  3 14:52 .gitattributes\n",
      "drwxrwxr-x  3 ubuntu ubuntu   4096 Oct  3 14:52 .github\n",
      "-rw-rw-r--  1 ubuntu ubuntu    131 Oct  3 14:52 .gitignore\n",
      "-rw-rw-r--  1 ubuntu ubuntu    812 Oct  3 14:52 .pre-commit-config.yaml\n",
      "-rw-rw-r--  1 ubuntu ubuntu   6137 Oct  3 14:52 CHANGELOG.md\n",
      "-rw-rw-r--  1 ubuntu ubuntu   1063 Oct  3 14:52 LICENSE\n",
      "-rw-rw-r--  1 ubuntu ubuntu    125 Oct  3 14:52 MANIFEST.in\n",
      "-rw-rw-r--  1 ubuntu ubuntu   7422 Oct  3 14:52 README.md\n",
      "-rw-rw-r--  1 ubuntu ubuntu 925107 Oct  3 14:52 approach.png\n",
      "drwxrwxr-x  2 ubuntu ubuntu   4096 Oct  3 14:52 data\n",
      "-rw-rw-r--  1 ubuntu ubuntu 278981 Oct  3 14:52 language-breakdown.svg\n",
      "-rw-rw-r--  1 ubuntu ubuntu   7108 Oct  3 14:52 model-card.md\n",
      "drwxrwxr-x  2 ubuntu ubuntu   4096 Oct  3 14:52 notebooks\n",
      "-rw-rw-r--  1 ubuntu ubuntu    115 Oct  3 14:52 pyproject.toml\n",
      "-rw-rw-r--  1 ubuntu ubuntu    143 Oct  3 14:52 requirements.txt\n",
      "-rw-rw-r--  1 ubuntu ubuntu   1248 Oct  3 14:52 setup.py\n",
      "drwxrwxr-x  2 ubuntu ubuntu   4096 Oct  3 14:52 tests\n",
      "drwxrwxr-x  4 ubuntu ubuntu   4096 Oct  3 14:52 whisper\n"
     ]
    }
   ],
   "source": [
    "!cd openai-whisper-ws && ls -al"
   ]
  },
  {
   "cell_type": "code",
   "execution_count": 31,
   "metadata": {},
   "outputs": [
    {
     "name": "stdout",
     "output_type": "stream",
     "text": [
      "total 168\n",
      "drwxrwxr-x 4 ubuntu ubuntu  4096 Oct  3 14:52 .\n",
      "drwxrwxr-x 8 ubuntu ubuntu  4096 Oct  3 14:52 ..\n",
      "-rw-rw-r-- 1 ubuntu ubuntu  6901 Oct  3 14:52 __init__.py\n",
      "-rw-rw-r-- 1 ubuntu ubuntu    35 Oct  3 14:52 __main__.py\n",
      "drwxrwxr-x 2 ubuntu ubuntu  4096 Oct  3 14:52 assets\n",
      "-rw-rw-r-- 1 ubuntu ubuntu  4932 Oct  3 14:52 audio.py\n",
      "-rw-rw-r-- 1 ubuntu ubuntu 34081 Oct  3 14:59 decoding.py\n",
      "-rw-rw-r-- 1 ubuntu ubuntu 10847 Oct  3 14:52 model.py\n",
      "drwxrwxr-x 2 ubuntu ubuntu  4096 Oct  3 14:52 normalizers\n",
      "-rw-rw-r-- 1 ubuntu ubuntu 12638 Oct  3 14:52 timing.py\n",
      "-rw-rw-r-- 1 ubuntu ubuntu 12338 Oct  3 14:52 tokenizer.py\n",
      "-rw-rw-r-- 1 ubuntu ubuntu 30023 Oct  3 14:59 transcribe.py\n",
      "-rw-rw-r-- 1 ubuntu ubuntu  3474 Oct  3 14:52 triton_ops.py\n",
      "-rw-rw-r-- 1 ubuntu ubuntu 11449 Oct  3 14:52 utils.py\n",
      "-rw-rw-r-- 1 ubuntu ubuntu    25 Oct  3 14:52 version.py\n"
     ]
    }
   ],
   "source": [
    "!cd openai-whisper-ws/whisper && ls -al"
   ]
  },
  {
   "cell_type": "code",
   "execution_count": 27,
   "metadata": {},
   "outputs": [
    {
     "name": "stdout",
     "output_type": "stream",
     "text": [
      "total 396\n",
      "drwxrwxr-x  3 ubuntu ubuntu  4096 Oct  3 14:53  .\n",
      "drwxr-x--- 10 ubuntu ubuntu  4096 Oct  3 14:53  ..\n",
      "drwxrwxr-x  8 ubuntu ubuntu  4096 Oct  3 14:53  .git\n",
      "-rw-rw-r--  1 ubuntu ubuntu   140 Oct  3 14:53  .gitignore\n",
      "-rw-rw-r--  1 ubuntu ubuntu 32155 Oct  3 14:53 'decoding-v20231117(org).py'\n",
      "-rw-rw-r--  1 ubuntu ubuntu 32314 Oct  3 14:53  decoding-v20240809.py\n",
      "-rw-rw-r--  1 ubuntu ubuntu 33653 Oct  3 14:53  decoding-v20240810.py\n",
      "-rw-rw-r--  1 ubuntu ubuntu 33882 Oct  3 14:53  decoding-v20240812.py\n",
      "-rw-rw-r--  1 ubuntu ubuntu 34081 Oct  3 14:53  decoding-v20240813.py\n",
      "-rw-rw-r--  1 ubuntu ubuntu  3656 Oct  3 14:53  demucs-vocals.srt\n",
      "-rw-rw-r--  1 ubuntu ubuntu   168 Oct  3 14:53  requirements.txt\n",
      "-rw-rw-r--  1 ubuntu ubuntu 29302 Oct  3 14:53 'transcribe-v20231117(org).py'\n",
      "-rw-rw-r--  1 ubuntu ubuntu 29517 Oct  3 14:53  transcribe-v20240808.py\n",
      "-rw-rw-r--  1 ubuntu ubuntu 29664 Oct  3 14:53  transcribe-v20240813.py\n",
      "-rw-rw-r--  1 ubuntu ubuntu 30023 Oct  3 14:53  transcribe-v20240816.py\n",
      "-rw-rw-r--  1 ubuntu ubuntu 30800 Oct  3 14:53  whisper-api-server-colab.ipynb\n",
      "-rw-rw-r--  1 ubuntu ubuntu 25142 Oct  3 14:53  whisper-api-server.py\n",
      "-rw-rw-r--  1 ubuntu ubuntu  8354 Oct  3 14:53  whisper_parameters_explanation.md\n"
     ]
    }
   ],
   "source": [
    "!cd whisper-lab-code && ls -al"
   ]
  },
  {
   "cell_type": "code",
   "execution_count": 29,
   "metadata": {},
   "outputs": [],
   "source": [
    "!cd whisper-lab-code && cp decoding-v20240813.py ../openai-whisper-ws/whisper/decoding.py\n",
    "!cd whisper-lab-code && cp transcribe-v20240816.py ../openai-whisper-ws/whisper/transcribe.py"
   ]
  },
  {
   "cell_type": "code",
   "execution_count": 13,
   "metadata": {},
   "outputs": [
    {
     "name": "stdout",
     "output_type": "stream",
     "text": [
      "Defaulting to user installation because normal site-packages is not writeable\n",
      "Requirement already satisfied: numba in /home/ubuntu/.local/lib/python3.10/site-packages (from -r requirements.txt (line 1)) (0.58.1)\n",
      "Requirement already satisfied: numpy in /home/ubuntu/.local/lib/python3.10/site-packages (from -r requirements.txt (line 2)) (1.25.2)\n",
      "Requirement already satisfied: torch in /home/ubuntu/.local/lib/python3.10/site-packages (from -r requirements.txt (line 3)) (2.3.1)\n",
      "Requirement already satisfied: tqdm in /home/ubuntu/.local/lib/python3.10/site-packages (from -r requirements.txt (line 4)) (4.66.1)\n",
      "Requirement already satisfied: more-itertools in /usr/lib/python3/dist-packages (from -r requirements.txt (line 5)) (8.10.0)\n",
      "Requirement already satisfied: tiktoken in /home/ubuntu/.local/lib/python3.10/site-packages (from -r requirements.txt (line 6)) (0.7.0)\n",
      "Requirement already satisfied: triton<3,>=2.0.0 in /usr/lib/python3/dist-packages (from -r requirements.txt (line 7)) (2.3.1)\n",
      "Requirement already satisfied: llvmlite<0.42,>=0.41.0dev0 in /home/ubuntu/.local/lib/python3.10/site-packages (from numba->-r requirements.txt (line 1)) (0.41.1)\n",
      "Requirement already satisfied: filelock in /usr/lib/python3/dist-packages (from torch->-r requirements.txt (line 3)) (3.6.0)\n",
      "Requirement already satisfied: typing-extensions>=4.8.0 in /home/ubuntu/.local/lib/python3.10/site-packages (from torch->-r requirements.txt (line 3)) (4.8.0)\n",
      "Requirement already satisfied: sympy in /usr/lib/python3/dist-packages (from torch->-r requirements.txt (line 3)) (1.12)\n",
      "Requirement already satisfied: networkx in /usr/lib/python3/dist-packages (from torch->-r requirements.txt (line 3)) (2.4)\n",
      "Requirement already satisfied: jinja2 in /usr/lib/python3/dist-packages (from torch->-r requirements.txt (line 3)) (3.0.3)\n",
      "Requirement already satisfied: fsspec in /home/ubuntu/.local/lib/python3.10/site-packages (from torch->-r requirements.txt (line 3)) (2024.9.0)\n",
      "Requirement already satisfied: nvidia-cuda-nvrtc-cu12==12.1.105 in /home/ubuntu/.local/lib/python3.10/site-packages (from torch->-r requirements.txt (line 3)) (12.1.105)\n",
      "Requirement already satisfied: nvidia-cuda-runtime-cu12==12.1.105 in /home/ubuntu/.local/lib/python3.10/site-packages (from torch->-r requirements.txt (line 3)) (12.1.105)\n",
      "Requirement already satisfied: nvidia-cuda-cupti-cu12==12.1.105 in /home/ubuntu/.local/lib/python3.10/site-packages (from torch->-r requirements.txt (line 3)) (12.1.105)\n",
      "Requirement already satisfied: nvidia-cudnn-cu12==8.9.2.26 in /home/ubuntu/.local/lib/python3.10/site-packages (from torch->-r requirements.txt (line 3)) (8.9.2.26)\n",
      "Requirement already satisfied: nvidia-cublas-cu12==12.1.3.1 in /home/ubuntu/.local/lib/python3.10/site-packages (from torch->-r requirements.txt (line 3)) (12.1.3.1)\n",
      "Requirement already satisfied: nvidia-cufft-cu12==11.0.2.54 in /home/ubuntu/.local/lib/python3.10/site-packages (from torch->-r requirements.txt (line 3)) (11.0.2.54)\n",
      "Requirement already satisfied: nvidia-curand-cu12==10.3.2.106 in /home/ubuntu/.local/lib/python3.10/site-packages (from torch->-r requirements.txt (line 3)) (10.3.2.106)\n",
      "Requirement already satisfied: nvidia-cusolver-cu12==11.4.5.107 in /home/ubuntu/.local/lib/python3.10/site-packages (from torch->-r requirements.txt (line 3)) (11.4.5.107)\n",
      "Requirement already satisfied: nvidia-cusparse-cu12==12.1.0.106 in /home/ubuntu/.local/lib/python3.10/site-packages (from torch->-r requirements.txt (line 3)) (12.1.0.106)\n",
      "Requirement already satisfied: nvidia-nccl-cu12==2.20.5 in /home/ubuntu/.local/lib/python3.10/site-packages (from torch->-r requirements.txt (line 3)) (2.20.5)\n",
      "Requirement already satisfied: nvidia-nvtx-cu12==12.1.105 in /home/ubuntu/.local/lib/python3.10/site-packages (from torch->-r requirements.txt (line 3)) (12.1.105)\n",
      "Requirement already satisfied: nvidia-nvjitlink-cu12 in /home/ubuntu/.local/lib/python3.10/site-packages (from nvidia-cusolver-cu12==11.4.5.107->torch->-r requirements.txt (line 3)) (12.6.77)\n",
      "Requirement already satisfied: regex>=2022.1.18 in /home/ubuntu/.local/lib/python3.10/site-packages (from tiktoken->-r requirements.txt (line 6)) (2024.9.11)\n",
      "Requirement already satisfied: requests>=2.26.0 in /home/ubuntu/.local/lib/python3.10/site-packages (from tiktoken->-r requirements.txt (line 6)) (2.31.0)\n",
      "Requirement already satisfied: charset-normalizer<4,>=2 in /home/ubuntu/.local/lib/python3.10/site-packages (from requests>=2.26.0->tiktoken->-r requirements.txt (line 6)) (3.3.2)\n",
      "Requirement already satisfied: idna<4,>=2.5 in /usr/lib/python3/dist-packages (from requests>=2.26.0->tiktoken->-r requirements.txt (line 6)) (3.3)\n",
      "Requirement already satisfied: urllib3<3,>=1.21.1 in /usr/lib/python3/dist-packages (from requests>=2.26.0->tiktoken->-r requirements.txt (line 6)) (1.26.5)\n",
      "Requirement already satisfied: certifi>=2017.4.17 in /usr/lib/python3/dist-packages (from requests>=2.26.0->tiktoken->-r requirements.txt (line 6)) (2020.6.20)\n"
     ]
    }
   ],
   "source": [
    "!cd openai-whisper-ws && pip install -r requirements.txt"
   ]
  },
  {
   "cell_type": "code",
   "execution_count": 14,
   "metadata": {},
   "outputs": [
    {
     "name": "stdout",
     "output_type": "stream",
     "text": [
      "/usr/lib/python3.10/distutils/dist.py:274: UserWarning: Unknown distribution option: 'readme'\n",
      "  warnings.warn(msg)\n",
      "running build\n",
      "running build_py\n",
      "file whisper.py (for module whisper) not found\n",
      "running egg_info\n",
      "writing openai_whisper.egg-info/PKG-INFO\n",
      "writing dependency_links to openai_whisper.egg-info/dependency_links.txt\n",
      "writing entry points to openai_whisper.egg-info/entry_points.txt\n",
      "writing requirements to openai_whisper.egg-info/requires.txt\n",
      "writing top-level names to openai_whisper.egg-info/top_level.txt\n",
      "file whisper.py (for module whisper) not found\n",
      "reading manifest file 'openai_whisper.egg-info/SOURCES.txt'\n",
      "reading manifest template 'MANIFEST.in'\n",
      "adding license file 'LICENSE'\n",
      "writing manifest file 'openai_whisper.egg-info/SOURCES.txt'\n",
      "file whisper.py (for module whisper) not found\n",
      "/usr/lib/python3.10/distutils/dist.py:274: UserWarning: Unknown distribution option: 'readme'\n",
      "  warnings.warn(msg)\n",
      "running install\n",
      "/usr/lib/python3/dist-packages/setuptools/command/install.py:34: SetuptoolsDeprecationWarning: setup.py install is deprecated. Use build and pip and other standards-based tools.\n",
      "  warnings.warn(\n",
      "/usr/lib/python3/dist-packages/setuptools/command/easy_install.py:158: EasyInstallDeprecationWarning: easy_install command is deprecated. Use build and pip and other standards-based tools.\n",
      "  warnings.warn(\n",
      "running bdist_egg\n",
      "running egg_info\n",
      "writing openai_whisper.egg-info/PKG-INFO\n",
      "writing dependency_links to openai_whisper.egg-info/dependency_links.txt\n",
      "writing entry points to openai_whisper.egg-info/entry_points.txt\n",
      "writing requirements to openai_whisper.egg-info/requires.txt\n",
      "writing top-level names to openai_whisper.egg-info/top_level.txt\n",
      "file whisper.py (for module whisper) not found\n",
      "reading manifest file 'openai_whisper.egg-info/SOURCES.txt'\n",
      "reading manifest template 'MANIFEST.in'\n",
      "adding license file 'LICENSE'\n",
      "writing manifest file 'openai_whisper.egg-info/SOURCES.txt'\n",
      "installing library code to build/bdist.linux-x86_64/egg\n",
      "running install_lib\n",
      "running build_py\n",
      "file whisper.py (for module whisper) not found\n",
      "file whisper.py (for module whisper) not found\n",
      "creating build/bdist.linux-x86_64/egg\n",
      "creating build/bdist.linux-x86_64/egg/whisper\n",
      "copying build/lib/whisper/__main__.py -> build/bdist.linux-x86_64/egg/whisper\n",
      "copying build/lib/whisper/utils.py -> build/bdist.linux-x86_64/egg/whisper\n",
      "creating build/bdist.linux-x86_64/egg/whisper/assets\n",
      "copying build/lib/whisper/assets/gpt2.tiktoken -> build/bdist.linux-x86_64/egg/whisper/assets\n",
      "copying build/lib/whisper/assets/mel_filters.npz -> build/bdist.linux-x86_64/egg/whisper/assets\n",
      "copying build/lib/whisper/assets/multilingual.tiktoken -> build/bdist.linux-x86_64/egg/whisper/assets\n",
      "copying build/lib/whisper/model.py -> build/bdist.linux-x86_64/egg/whisper\n",
      "creating build/bdist.linux-x86_64/egg/whisper/normalizers\n",
      "copying build/lib/whisper/normalizers/english.json -> build/bdist.linux-x86_64/egg/whisper/normalizers\n",
      "copying build/lib/whisper/normalizers/english.py -> build/bdist.linux-x86_64/egg/whisper/normalizers\n",
      "copying build/lib/whisper/normalizers/__init__.py -> build/bdist.linux-x86_64/egg/whisper/normalizers\n",
      "copying build/lib/whisper/normalizers/basic.py -> build/bdist.linux-x86_64/egg/whisper/normalizers\n",
      "copying build/lib/whisper/decoding.py -> build/bdist.linux-x86_64/egg/whisper\n",
      "copying build/lib/whisper/timing.py -> build/bdist.linux-x86_64/egg/whisper\n",
      "copying build/lib/whisper/transcribe.py -> build/bdist.linux-x86_64/egg/whisper\n",
      "copying build/lib/whisper/triton_ops.py -> build/bdist.linux-x86_64/egg/whisper\n",
      "copying build/lib/whisper/version.py -> build/bdist.linux-x86_64/egg/whisper\n",
      "copying build/lib/whisper/tokenizer.py -> build/bdist.linux-x86_64/egg/whisper\n",
      "copying build/lib/whisper/__init__.py -> build/bdist.linux-x86_64/egg/whisper\n",
      "copying build/lib/whisper/audio.py -> build/bdist.linux-x86_64/egg/whisper\n",
      "byte-compiling build/bdist.linux-x86_64/egg/whisper/__main__.py to __main__.cpython-310.pyc\n",
      "byte-compiling build/bdist.linux-x86_64/egg/whisper/utils.py to utils.cpython-310.pyc\n",
      "byte-compiling build/bdist.linux-x86_64/egg/whisper/model.py to model.cpython-310.pyc\n",
      "byte-compiling build/bdist.linux-x86_64/egg/whisper/normalizers/english.py to english.cpython-310.pyc\n",
      "byte-compiling build/bdist.linux-x86_64/egg/whisper/normalizers/__init__.py to __init__.cpython-310.pyc\n",
      "byte-compiling build/bdist.linux-x86_64/egg/whisper/normalizers/basic.py to basic.cpython-310.pyc\n",
      "byte-compiling build/bdist.linux-x86_64/egg/whisper/decoding.py to decoding.cpython-310.pyc\n",
      "byte-compiling build/bdist.linux-x86_64/egg/whisper/timing.py to timing.cpython-310.pyc\n",
      "byte-compiling build/bdist.linux-x86_64/egg/whisper/transcribe.py to transcribe.cpython-310.pyc\n",
      "byte-compiling build/bdist.linux-x86_64/egg/whisper/triton_ops.py to triton_ops.cpython-310.pyc\n",
      "byte-compiling build/bdist.linux-x86_64/egg/whisper/version.py to version.cpython-310.pyc\n",
      "byte-compiling build/bdist.linux-x86_64/egg/whisper/tokenizer.py to tokenizer.cpython-310.pyc\n",
      "byte-compiling build/bdist.linux-x86_64/egg/whisper/__init__.py to __init__.cpython-310.pyc\n",
      "byte-compiling build/bdist.linux-x86_64/egg/whisper/audio.py to audio.cpython-310.pyc\n",
      "creating build/bdist.linux-x86_64/egg/EGG-INFO\n",
      "copying openai_whisper.egg-info/PKG-INFO -> build/bdist.linux-x86_64/egg/EGG-INFO\n",
      "copying openai_whisper.egg-info/SOURCES.txt -> build/bdist.linux-x86_64/egg/EGG-INFO\n",
      "copying openai_whisper.egg-info/dependency_links.txt -> build/bdist.linux-x86_64/egg/EGG-INFO\n",
      "copying openai_whisper.egg-info/entry_points.txt -> build/bdist.linux-x86_64/egg/EGG-INFO\n",
      "copying openai_whisper.egg-info/requires.txt -> build/bdist.linux-x86_64/egg/EGG-INFO\n",
      "copying openai_whisper.egg-info/top_level.txt -> build/bdist.linux-x86_64/egg/EGG-INFO\n",
      "zip_safe flag not set; analyzing archive contents...\n",
      "whisper.__pycache__.audio.cpython-310: module references __file__\n",
      "whisper.__pycache__.tokenizer.cpython-310: module references __file__\n",
      "whisper.__pycache__.transcribe.cpython-310: module references __file__\n",
      "whisper.normalizers.__pycache__.english.cpython-310: module references __file__\n",
      "creating 'dist/openai_whisper-20231117-py3.10.egg' and adding 'build/bdist.linux-x86_64/egg' to it\n",
      "removing 'build/bdist.linux-x86_64/egg' (and everything under it)\n",
      "Processing openai_whisper-20231117-py3.10.egg\n",
      "removing '/usr/local/lib/python3.10/dist-packages/openai_whisper-20231117-py3.10.egg' (and everything under it)\n",
      "creating /usr/local/lib/python3.10/dist-packages/openai_whisper-20231117-py3.10.egg\n",
      "Extracting openai_whisper-20231117-py3.10.egg to /usr/local/lib/python3.10/dist-packages\n",
      "openai-whisper 20231117 is already the active version in easy-install.pth\n",
      "Installing whisper script to /usr/local/bin\n",
      "\n",
      "Installed /usr/local/lib/python3.10/dist-packages/openai_whisper-20231117-py3.10.egg\n",
      "Processing dependencies for openai-whisper==20231117\n",
      "error: triton 2.3.1 is installed but triton==3.0.0 is required by {'torch'}\n"
     ]
    }
   ],
   "source": [
    "!cd openai-whisper-ws && python setup.py build && sudo python setup.py install"
   ]
  },
  {
   "cell_type": "code",
   "execution_count": 16,
   "metadata": {},
   "outputs": [
    {
     "name": "stdout",
     "output_type": "stream",
     "text": [
      "/usr/local/bin/whisper\n"
     ]
    }
   ],
   "source": [
    "!which whisper"
   ]
  },
  {
   "cell_type": "code",
   "execution_count": 17,
   "metadata": {},
   "outputs": [
    {
     "name": "stdout",
     "output_type": "stream",
     "text": [
      "Defaulting to user installation because normal site-packages is not writeable\n",
      "Requirement already satisfied: numba in /home/ubuntu/.local/lib/python3.10/site-packages (from -r requirements.txt (line 1)) (0.58.1)\n",
      "Requirement already satisfied: numpy in /home/ubuntu/.local/lib/python3.10/site-packages (from -r requirements.txt (line 2)) (1.25.2)\n",
      "Requirement already satisfied: torch in /home/ubuntu/.local/lib/python3.10/site-packages (from -r requirements.txt (line 3)) (2.3.1)\n",
      "Requirement already satisfied: tqdm in /home/ubuntu/.local/lib/python3.10/site-packages (from -r requirements.txt (line 4)) (4.66.1)\n",
      "Requirement already satisfied: more-itertools in /usr/lib/python3/dist-packages (from -r requirements.txt (line 5)) (8.10.0)\n",
      "Requirement already satisfied: tiktoken in /home/ubuntu/.local/lib/python3.10/site-packages (from -r requirements.txt (line 6)) (0.7.0)\n",
      "Requirement already satisfied: triton<3,>=2.0.0 in /usr/lib/python3/dist-packages (from -r requirements.txt (line 7)) (2.3.1)\n",
      "Requirement already satisfied: whisper in /home/ubuntu/.local/lib/python3.10/site-packages (from -r requirements.txt (line 8)) (1.1.10)\n",
      "Requirement already satisfied: fastapi in /home/ubuntu/.local/lib/python3.10/site-packages (from -r requirements.txt (line 9)) (0.115.0)\n",
      "Requirement already satisfied: pydantic in /home/ubuntu/.local/lib/python3.10/site-packages (from -r requirements.txt (line 10)) (2.5.2)\n",
      "Requirement already satisfied: llvmlite<0.42,>=0.41.0dev0 in /home/ubuntu/.local/lib/python3.10/site-packages (from numba->-r requirements.txt (line 1)) (0.41.1)\n",
      "Requirement already satisfied: filelock in /usr/lib/python3/dist-packages (from torch->-r requirements.txt (line 3)) (3.6.0)\n",
      "Requirement already satisfied: typing-extensions>=4.8.0 in /home/ubuntu/.local/lib/python3.10/site-packages (from torch->-r requirements.txt (line 3)) (4.8.0)\n",
      "Requirement already satisfied: sympy in /usr/lib/python3/dist-packages (from torch->-r requirements.txt (line 3)) (1.12)\n",
      "Requirement already satisfied: networkx in /usr/lib/python3/dist-packages (from torch->-r requirements.txt (line 3)) (2.4)\n",
      "Requirement already satisfied: jinja2 in /usr/lib/python3/dist-packages (from torch->-r requirements.txt (line 3)) (3.0.3)\n",
      "Requirement already satisfied: fsspec in /home/ubuntu/.local/lib/python3.10/site-packages (from torch->-r requirements.txt (line 3)) (2024.9.0)\n",
      "Requirement already satisfied: nvidia-cuda-nvrtc-cu12==12.1.105 in /home/ubuntu/.local/lib/python3.10/site-packages (from torch->-r requirements.txt (line 3)) (12.1.105)\n",
      "Requirement already satisfied: nvidia-cuda-runtime-cu12==12.1.105 in /home/ubuntu/.local/lib/python3.10/site-packages (from torch->-r requirements.txt (line 3)) (12.1.105)\n",
      "Requirement already satisfied: nvidia-cuda-cupti-cu12==12.1.105 in /home/ubuntu/.local/lib/python3.10/site-packages (from torch->-r requirements.txt (line 3)) (12.1.105)\n",
      "Requirement already satisfied: nvidia-cudnn-cu12==8.9.2.26 in /home/ubuntu/.local/lib/python3.10/site-packages (from torch->-r requirements.txt (line 3)) (8.9.2.26)\n",
      "Requirement already satisfied: nvidia-cublas-cu12==12.1.3.1 in /home/ubuntu/.local/lib/python3.10/site-packages (from torch->-r requirements.txt (line 3)) (12.1.3.1)\n",
      "Requirement already satisfied: nvidia-cufft-cu12==11.0.2.54 in /home/ubuntu/.local/lib/python3.10/site-packages (from torch->-r requirements.txt (line 3)) (11.0.2.54)\n",
      "Requirement already satisfied: nvidia-curand-cu12==10.3.2.106 in /home/ubuntu/.local/lib/python3.10/site-packages (from torch->-r requirements.txt (line 3)) (10.3.2.106)\n",
      "Requirement already satisfied: nvidia-cusolver-cu12==11.4.5.107 in /home/ubuntu/.local/lib/python3.10/site-packages (from torch->-r requirements.txt (line 3)) (11.4.5.107)\n",
      "Requirement already satisfied: nvidia-cusparse-cu12==12.1.0.106 in /home/ubuntu/.local/lib/python3.10/site-packages (from torch->-r requirements.txt (line 3)) (12.1.0.106)\n",
      "Requirement already satisfied: nvidia-nccl-cu12==2.20.5 in /home/ubuntu/.local/lib/python3.10/site-packages (from torch->-r requirements.txt (line 3)) (2.20.5)\n",
      "Requirement already satisfied: nvidia-nvtx-cu12==12.1.105 in /home/ubuntu/.local/lib/python3.10/site-packages (from torch->-r requirements.txt (line 3)) (12.1.105)\n",
      "Requirement already satisfied: nvidia-nvjitlink-cu12 in /home/ubuntu/.local/lib/python3.10/site-packages (from nvidia-cusolver-cu12==11.4.5.107->torch->-r requirements.txt (line 3)) (12.6.77)\n",
      "Requirement already satisfied: regex>=2022.1.18 in /home/ubuntu/.local/lib/python3.10/site-packages (from tiktoken->-r requirements.txt (line 6)) (2024.9.11)\n",
      "Requirement already satisfied: requests>=2.26.0 in /home/ubuntu/.local/lib/python3.10/site-packages (from tiktoken->-r requirements.txt (line 6)) (2.31.0)\n",
      "Requirement already satisfied: six in /usr/lib/python3/dist-packages (from whisper->-r requirements.txt (line 8)) (1.16.0)\n",
      "Requirement already satisfied: starlette<0.39.0,>=0.37.2 in /home/ubuntu/.local/lib/python3.10/site-packages (from fastapi->-r requirements.txt (line 9)) (0.38.6)\n",
      "Requirement already satisfied: annotated-types>=0.4.0 in /home/ubuntu/.local/lib/python3.10/site-packages (from pydantic->-r requirements.txt (line 10)) (0.6.0)\n",
      "Requirement already satisfied: pydantic-core==2.14.5 in /home/ubuntu/.local/lib/python3.10/site-packages (from pydantic->-r requirements.txt (line 10)) (2.14.5)\n",
      "Requirement already satisfied: charset-normalizer<4,>=2 in /home/ubuntu/.local/lib/python3.10/site-packages (from requests>=2.26.0->tiktoken->-r requirements.txt (line 6)) (3.3.2)\n",
      "Requirement already satisfied: idna<4,>=2.5 in /usr/lib/python3/dist-packages (from requests>=2.26.0->tiktoken->-r requirements.txt (line 6)) (3.3)\n",
      "Requirement already satisfied: urllib3<3,>=1.21.1 in /usr/lib/python3/dist-packages (from requests>=2.26.0->tiktoken->-r requirements.txt (line 6)) (1.26.5)\n",
      "Requirement already satisfied: certifi>=2017.4.17 in /usr/lib/python3/dist-packages (from requests>=2.26.0->tiktoken->-r requirements.txt (line 6)) (2020.6.20)\n",
      "Requirement already satisfied: anyio<5,>=3.4.0 in /home/ubuntu/.local/lib/python3.10/site-packages (from starlette<0.39.0,>=0.37.2->fastapi->-r requirements.txt (line 9)) (4.1.0)\n",
      "Requirement already satisfied: sniffio>=1.1 in /home/ubuntu/.local/lib/python3.10/site-packages (from anyio<5,>=3.4.0->starlette<0.39.0,>=0.37.2->fastapi->-r requirements.txt (line 9)) (1.3.0)\n",
      "Requirement already satisfied: exceptiongroup>=1.0.2 in /home/ubuntu/.local/lib/python3.10/site-packages (from anyio<5,>=3.4.0->starlette<0.39.0,>=0.37.2->fastapi->-r requirements.txt (line 9)) (1.2.0)\n"
     ]
    }
   ],
   "source": [
    "!cd whisper-lab-code && pip install -r requirements.txt"
   ]
  },
  {
   "cell_type": "code",
   "execution_count": 20,
   "metadata": {},
   "outputs": [
    {
     "name": "stdout",
     "output_type": "stream",
     "text": [
      "Defaulting to user installation because normal site-packages is not writeable\n",
      "Requirement already satisfied: fastapi[standard] in ./.local/lib/python3.10/site-packages (0.115.0)\n",
      "Requirement already satisfied: starlette<0.39.0,>=0.37.2 in ./.local/lib/python3.10/site-packages (from fastapi[standard]) (0.38.6)\n",
      "Requirement already satisfied: pydantic!=1.8,!=1.8.1,!=2.0.0,!=2.0.1,!=2.1.0,<3.0.0,>=1.7.4 in ./.local/lib/python3.10/site-packages (from fastapi[standard]) (2.5.2)\n",
      "Requirement already satisfied: typing-extensions>=4.8.0 in ./.local/lib/python3.10/site-packages (from fastapi[standard]) (4.8.0)\n",
      "Collecting fastapi-cli>=0.0.5 (from fastapi-cli[standard]>=0.0.5; extra == \"standard\"->fastapi[standard])\n",
      "  Downloading fastapi_cli-0.0.5-py3-none-any.whl.metadata (7.0 kB)\n",
      "Requirement already satisfied: httpx>=0.23.0 in ./.local/lib/python3.10/site-packages (from fastapi[standard]) (0.27.2)\n",
      "Requirement already satisfied: jinja2>=2.11.2 in /usr/lib/python3/dist-packages (from fastapi[standard]) (3.0.3)\n",
      "Collecting python-multipart>=0.0.7 (from fastapi[standard])\n",
      "  Downloading python_multipart-0.0.12-py3-none-any.whl.metadata (1.9 kB)\n",
      "Collecting email-validator>=2.0.0 (from fastapi[standard])\n",
      "  Downloading email_validator-2.2.0-py3-none-any.whl.metadata (25 kB)\n",
      "Requirement already satisfied: uvicorn>=0.12.0 in ./.local/lib/python3.10/site-packages (from uvicorn[standard]>=0.12.0; extra == \"standard\"->fastapi[standard]) (0.31.0)\n",
      "Collecting dnspython>=2.0.0 (from email-validator>=2.0.0->fastapi[standard])\n",
      "  Downloading dnspython-2.6.1-py3-none-any.whl.metadata (5.8 kB)\n",
      "Requirement already satisfied: idna>=2.0.0 in /usr/lib/python3/dist-packages (from email-validator>=2.0.0->fastapi[standard]) (3.3)\n",
      "Collecting typer>=0.12.3 (from fastapi-cli>=0.0.5->fastapi-cli[standard]>=0.0.5; extra == \"standard\"->fastapi[standard])\n",
      "  Downloading typer-0.12.5-py3-none-any.whl.metadata (15 kB)\n",
      "Requirement already satisfied: anyio in ./.local/lib/python3.10/site-packages (from httpx>=0.23.0->fastapi[standard]) (4.1.0)\n",
      "Requirement already satisfied: certifi in /usr/lib/python3/dist-packages (from httpx>=0.23.0->fastapi[standard]) (2020.6.20)\n",
      "Requirement already satisfied: httpcore==1.* in ./.local/lib/python3.10/site-packages (from httpx>=0.23.0->fastapi[standard]) (1.0.6)\n",
      "Requirement already satisfied: sniffio in ./.local/lib/python3.10/site-packages (from httpx>=0.23.0->fastapi[standard]) (1.3.0)\n",
      "Requirement already satisfied: h11<0.15,>=0.13 in ./.local/lib/python3.10/site-packages (from httpcore==1.*->httpx>=0.23.0->fastapi[standard]) (0.14.0)\n",
      "Requirement already satisfied: annotated-types>=0.4.0 in ./.local/lib/python3.10/site-packages (from pydantic!=1.8,!=1.8.1,!=2.0.0,!=2.0.1,!=2.1.0,<3.0.0,>=1.7.4->fastapi[standard]) (0.6.0)\n",
      "Requirement already satisfied: pydantic-core==2.14.5 in ./.local/lib/python3.10/site-packages (from pydantic!=1.8,!=1.8.1,!=2.0.0,!=2.0.1,!=2.1.0,<3.0.0,>=1.7.4->fastapi[standard]) (2.14.5)\n",
      "Requirement already satisfied: click>=7.0 in /usr/lib/python3/dist-packages (from uvicorn>=0.12.0->uvicorn[standard]>=0.12.0; extra == \"standard\"->fastapi[standard]) (8.0.3)\n",
      "Collecting httptools>=0.5.0 (from uvicorn[standard]>=0.12.0; extra == \"standard\"->fastapi[standard])\n",
      "  Downloading httptools-0.6.1-cp310-cp310-manylinux_2_5_x86_64.manylinux1_x86_64.manylinux_2_17_x86_64.manylinux2014_x86_64.whl.metadata (3.6 kB)\n",
      "Collecting python-dotenv>=0.13 (from uvicorn[standard]>=0.12.0; extra == \"standard\"->fastapi[standard])\n",
      "  Downloading python_dotenv-1.0.1-py3-none-any.whl.metadata (23 kB)\n",
      "Requirement already satisfied: pyyaml>=5.1 in /usr/lib/python3/dist-packages (from uvicorn[standard]>=0.12.0; extra == \"standard\"->fastapi[standard]) (5.4.1)\n",
      "Collecting uvloop!=0.15.0,!=0.15.1,>=0.14.0 (from uvicorn[standard]>=0.12.0; extra == \"standard\"->fastapi[standard])\n",
      "  Downloading uvloop-0.20.0-cp310-cp310-manylinux_2_17_x86_64.manylinux2014_x86_64.whl.metadata (4.9 kB)\n",
      "Collecting watchfiles>=0.13 (from uvicorn[standard]>=0.12.0; extra == \"standard\"->fastapi[standard])\n",
      "  Downloading watchfiles-0.24.0-cp310-cp310-manylinux_2_17_x86_64.manylinux2014_x86_64.whl.metadata (4.9 kB)\n",
      "Collecting websockets>=10.4 (from uvicorn[standard]>=0.12.0; extra == \"standard\"->fastapi[standard])\n",
      "  Downloading websockets-13.1-cp310-cp310-manylinux_2_5_x86_64.manylinux1_x86_64.manylinux_2_17_x86_64.manylinux2014_x86_64.whl.metadata (6.8 kB)\n",
      "Requirement already satisfied: exceptiongroup>=1.0.2 in ./.local/lib/python3.10/site-packages (from anyio->httpx>=0.23.0->fastapi[standard]) (1.2.0)\n",
      "Collecting shellingham>=1.3.0 (from typer>=0.12.3->fastapi-cli>=0.0.5->fastapi-cli[standard]>=0.0.5; extra == \"standard\"->fastapi[standard])\n",
      "  Downloading shellingham-1.5.4-py2.py3-none-any.whl.metadata (3.5 kB)\n",
      "Requirement already satisfied: rich>=10.11.0 in /usr/lib/python3/dist-packages (from typer>=0.12.3->fastapi-cli>=0.0.5->fastapi-cli[standard]>=0.0.5; extra == \"standard\"->fastapi[standard]) (11.2.0)\n",
      "Requirement already satisfied: colorama<0.5.0,>=0.4.0 in /usr/lib/python3/dist-packages (from rich>=10.11.0->typer>=0.12.3->fastapi-cli>=0.0.5->fastapi-cli[standard]>=0.0.5; extra == \"standard\"->fastapi[standard]) (0.4.4)\n",
      "Requirement already satisfied: commonmark<0.10.0,>=0.9.0 in /usr/lib/python3/dist-packages (from rich>=10.11.0->typer>=0.12.3->fastapi-cli>=0.0.5->fastapi-cli[standard]>=0.0.5; extra == \"standard\"->fastapi[standard]) (0.9.1)\n",
      "Requirement already satisfied: pygments<3.0.0,>=2.6.0 in /usr/lib/python3/dist-packages (from rich>=10.11.0->typer>=0.12.3->fastapi-cli>=0.0.5->fastapi-cli[standard]>=0.0.5; extra == \"standard\"->fastapi[standard]) (2.11.2)\n",
      "Downloading email_validator-2.2.0-py3-none-any.whl (33 kB)\n",
      "Downloading fastapi_cli-0.0.5-py3-none-any.whl (9.5 kB)\n",
      "Downloading python_multipart-0.0.12-py3-none-any.whl (23 kB)\n",
      "Downloading dnspython-2.6.1-py3-none-any.whl (307 kB)\n",
      "Downloading httptools-0.6.1-cp310-cp310-manylinux_2_5_x86_64.manylinux1_x86_64.manylinux_2_17_x86_64.manylinux2014_x86_64.whl (341 kB)\n",
      "Downloading python_dotenv-1.0.1-py3-none-any.whl (19 kB)\n",
      "Downloading typer-0.12.5-py3-none-any.whl (47 kB)\n",
      "Downloading uvloop-0.20.0-cp310-cp310-manylinux_2_17_x86_64.manylinux2014_x86_64.whl (3.4 MB)\n",
      "\u001b[2K   \u001b[90m━━━━━━━━━━━━━━━━━━━━━━━━━━━━━━━━━━━━━━━━\u001b[0m \u001b[32m3.4/3.4 MB\u001b[0m \u001b[31m95.6 MB/s\u001b[0m eta \u001b[36m0:00:00\u001b[0m\n",
      "\u001b[?25hDownloading watchfiles-0.24.0-cp310-cp310-manylinux_2_17_x86_64.manylinux2014_x86_64.whl (425 kB)\n",
      "Downloading websockets-13.1-cp310-cp310-manylinux_2_5_x86_64.manylinux1_x86_64.manylinux_2_17_x86_64.manylinux2014_x86_64.whl (164 kB)\n",
      "Downloading shellingham-1.5.4-py2.py3-none-any.whl (9.8 kB)\n",
      "Installing collected packages: websockets, uvloop, shellingham, python-multipart, python-dotenv, httptools, dnspython, watchfiles, typer, email-validator, fastapi-cli\n",
      "Successfully installed dnspython-2.6.1 email-validator-2.2.0 fastapi-cli-0.0.5 httptools-0.6.1 python-dotenv-1.0.1 python-multipart-0.0.12 shellingham-1.5.4 typer-0.12.5 uvloop-0.20.0 watchfiles-0.24.0 websockets-13.1\n",
      "Note: you may need to restart the kernel to use updated packages.\n"
     ]
    }
   ],
   "source": [
    "%pip install \"fastapi[standard]\""
   ]
  },
  {
   "cell_type": "markdown",
   "metadata": {},
   "source": [
    "#### Start the whisper-api-server (whisper-api-server.py)\n",
    "\n",
    "```sh\n",
    "# Run (Development mode)\n",
    "$ fastapi dev whisper-api-server.py\n",
    "\n",
    "# Run (Production mode)\n",
    "$ fastapi run whisper-api-server.py\n",
    "\n",
    "# Check CUDA/GPUs\n",
    "$ nvidia-smi\n",
    "```"
   ]
  },
  {
   "cell_type": "markdown",
   "metadata": {},
   "source": [
    "### When you see errors about version conflicts of flatbuffers while installing pip modules as you can in the below,\n",
    "\n",
    "#### You can solve the issues following the next steps:"
   ]
  },
  {
   "cell_type": "code",
   "execution_count": 35,
   "metadata": {},
   "outputs": [
    {
     "name": "stdout",
     "output_type": "stream",
     "text": [
      "Found existing installation: flatbuffers 1.12.1-git20200711.33e2d80-dfsg1-0.6\n",
      "Uninstalling flatbuffers-1.12.1-git20200711.33e2d80-dfsg1-0.6:\n",
      "\u001b[31mERROR: Exception:\n",
      "Traceback (most recent call last):\n",
      "  File \"/usr/lib/python3.10/shutil.py\", line 816, in move\n",
      "    os.rename(src, real_dst)\n",
      "PermissionError: [Errno 13] Permission denied: '/usr/lib/python3/dist-packages/flatbuffers' -> '/tmp/pip-uninstall-zufm0met'\n",
      "\n",
      "During handling of the above exception, another exception occurred:\n",
      "\n",
      "Traceback (most recent call last):\n",
      "  File \"/home/ubuntu/.local/lib/python3.10/site-packages/pip/_internal/cli/base_command.py\", line 105, in _run_wrapper\n",
      "    status = _inner_run()\n",
      "  File \"/home/ubuntu/.local/lib/python3.10/site-packages/pip/_internal/cli/base_command.py\", line 96, in _inner_run\n",
      "    return self.run(options, args)\n",
      "  File \"/home/ubuntu/.local/lib/python3.10/site-packages/pip/_internal/commands/uninstall.py\", line 106, in run\n",
      "    uninstall_pathset = req.uninstall(\n",
      "  File \"/home/ubuntu/.local/lib/python3.10/site-packages/pip/_internal/req/req_install.py\", line 723, in uninstall\n",
      "    uninstalled_pathset.remove(auto_confirm, verbose)\n",
      "  File \"/home/ubuntu/.local/lib/python3.10/site-packages/pip/_internal/req/req_uninstall.py\", line 370, in remove\n",
      "    moved.stash(path)\n",
      "  File \"/home/ubuntu/.local/lib/python3.10/site-packages/pip/_internal/req/req_uninstall.py\", line 261, in stash\n",
      "    renames(path, new_path)\n",
      "  File \"/home/ubuntu/.local/lib/python3.10/site-packages/pip/_internal/utils/misc.py\", line 354, in renames\n",
      "    shutil.move(old, new)\n",
      "  File \"/usr/lib/python3.10/shutil.py\", line 834, in move\n",
      "    rmtree(src)\n",
      "  File \"/usr/lib/python3.10/shutil.py\", line 725, in rmtree\n",
      "    _rmtree_safe_fd(fd, path, onerror)\n",
      "  File \"/usr/lib/python3.10/shutil.py\", line 681, in _rmtree_safe_fd\n",
      "    onerror(os.unlink, fullname, sys.exc_info())\n",
      "  File \"/usr/lib/python3.10/shutil.py\", line 679, in _rmtree_safe_fd\n",
      "    os.unlink(entry.name, dir_fd=topfd)\n",
      "PermissionError: [Errno 13] Permission denied: 'flexbuffers.py'\u001b[0m\u001b[31m\n",
      "\u001b[0mNote: you may need to restart the kernel to use updated packages.\n",
      "Defaulting to user installation because normal site-packages is not writeable\n",
      "\u001b[31mERROR: Exception:\n",
      "Traceback (most recent call last):\n",
      "  File \"/home/ubuntu/.local/lib/python3.10/site-packages/pip/_internal/cli/base_command.py\", line 105, in _run_wrapper\n",
      "    status = _inner_run()\n",
      "  File \"/home/ubuntu/.local/lib/python3.10/site-packages/pip/_internal/cli/base_command.py\", line 96, in _inner_run\n",
      "    return self.run(options, args)\n",
      "  File \"/home/ubuntu/.local/lib/python3.10/site-packages/pip/_internal/cli/req_command.py\", line 67, in wrapper\n",
      "    return func(self, options, args)\n",
      "  File \"/home/ubuntu/.local/lib/python3.10/site-packages/pip/_internal/commands/install.py\", line 379, in run\n",
      "    requirement_set = resolver.resolve(\n",
      "  File \"/home/ubuntu/.local/lib/python3.10/site-packages/pip/_internal/resolution/resolvelib/resolver.py\", line 95, in resolve\n",
      "    result = self._result = resolver.resolve(\n",
      "  File \"/home/ubuntu/.local/lib/python3.10/site-packages/pip/_vendor/resolvelib/resolvers.py\", line 546, in resolve\n",
      "    state = resolution.resolve(requirements, max_rounds=max_rounds)\n",
      "  File \"/home/ubuntu/.local/lib/python3.10/site-packages/pip/_vendor/resolvelib/resolvers.py\", line 397, in resolve\n",
      "    self._add_to_criteria(self.state.criteria, r, parent=None)\n",
      "  File \"/home/ubuntu/.local/lib/python3.10/site-packages/pip/_vendor/resolvelib/resolvers.py\", line 148, in _add_to_criteria\n",
      "    matches = self._p.find_matches(\n",
      "  File \"/home/ubuntu/.local/lib/python3.10/site-packages/pip/_internal/resolution/resolvelib/provider.py\", line 232, in find_matches\n",
      "    return self._factory.find_candidates(\n",
      "  File \"/home/ubuntu/.local/lib/python3.10/site-packages/pip/_internal/resolution/resolvelib/factory.py\", line 451, in find_candidates\n",
      "    return self._iter_found_candidates(\n",
      "  File \"/home/ubuntu/.local/lib/python3.10/site-packages/pip/_internal/resolution/resolvelib/factory.py\", line 342, in _iter_found_candidates\n",
      "    _get_installed_candidate(),\n",
      "  File \"/home/ubuntu/.local/lib/python3.10/site-packages/pip/_internal/resolution/resolvelib/factory.py\", line 288, in _get_installed_candidate\n",
      "    if not specifier.contains(installed_dist.version, prereleases=True):\n",
      "  File \"/home/ubuntu/.local/lib/python3.10/site-packages/pip/_internal/metadata/pkg_resources.py\", line 192, in version\n",
      "    return parse_version(self._dist.version)\n",
      "  File \"/home/ubuntu/.local/lib/python3.10/site-packages/pip/_vendor/packaging/version.py\", line 56, in parse\n",
      "    return Version(version)\n",
      "  File \"/home/ubuntu/.local/lib/python3.10/site-packages/pip/_vendor/packaging/version.py\", line 202, in __init__\n",
      "    raise InvalidVersion(f\"Invalid version: '{version}'\")\n",
      "pip._vendor.packaging.version.InvalidVersion: Invalid version: '1.12.1-git20200711.33e2d80-dfsg1-0.6'\u001b[0m\u001b[31m\n",
      "\u001b[0mNote: you may need to restart the kernel to use updated packages.\n"
     ]
    }
   ],
   "source": [
    "%pip uninstall flatbuffers -y\n",
    "%pip install flatbuffers"
   ]
  },
  {
   "cell_type": "markdown",
   "metadata": {},
   "source": [
    "#### As you can see the erros above, it can't be removed, so I set down the Jupyter Notebook server and tried commands as the followings,"
   ]
  },
  {
   "cell_type": "markdown",
   "metadata": {},
   "source": [
    "```sh\n",
    "$ sudo apt remove python3-flatbuffers\n",
    "# 1. Find the location of the flatbuffers package (if not already known):\n",
    "# 2. Look for the site-packages or dist-packages directory where flatbuffers is installed.\n",
    "$ python3 -m site\n",
    "# 3. Remove the flatbuffers folder manually:\n",
    "$ sudo rm -rf /usr/lib/python3/dist-packages/flatbuffers\n",
    "# After performing this step, run pip uninstall flatbuffers again to ensure any remaining references are removed.\n",
    "$ pip uninstall flatbuffers\n",
    "```"
   ]
  },
  {
   "cell_type": "markdown",
   "metadata": {},
   "source": [
    "#### And then, you can install pip modules from the beginnig without any errors."
   ]
  }
 ],
 "metadata": {
  "kernelspec": {
   "display_name": "Python 3 (ipykernel)",
   "language": "python",
   "name": "python3"
  },
  "language_info": {
   "codemirror_mode": {
    "name": "ipython",
    "version": 3
   },
   "file_extension": ".py",
   "mimetype": "text/x-python",
   "name": "python",
   "nbconvert_exporter": "python",
   "pygments_lexer": "ipython3",
   "version": "3.10.12"
  }
 },
 "nbformat": 4,
 "nbformat_minor": 2
}
